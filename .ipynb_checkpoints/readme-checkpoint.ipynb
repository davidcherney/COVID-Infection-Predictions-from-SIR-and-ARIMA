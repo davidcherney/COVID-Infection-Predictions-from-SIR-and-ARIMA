{
 "cells": [
  {
   "cell_type": "markdown",
   "id": "09013dea-1dff-4f89-b476-547af56f2b23",
   "metadata": {},
   "source": [
    "# Team Members\n",
    "- [David Cherney](https://www.linkedin.com/in/dmcherney/)\n",
    "- [Shania Thomas](https://www.linkedin.com/in/shania-thomas-atx22/)\n",
    "- [Thomas Prich](https://www.linkedin.com/in/thomas-prich/)\n",
    "- [Afolabi Cardoso](https://www.linkedin.com/in/afolabi-cardoso/)\n",
    "\n",
    "---\n",
    "## Content\n",
    "\n",
    "[Problem Statement](#Problem-Statement) | [Data](#DATA) | [Methodology](#Methodology) | [Conclusions and Recommendations](#Conclusions-and-Recommendations)\n",
    "\n",
    "---\n",
    "\n",
    "##  Problem Statement\n",
    "\n",
    "Do dynamics specific models or generic times series models provide the best next day predictions of COVID case load for a state population?\n",
    "\n",
    "### Background\n",
    "<a href=\"https://en.wikipedia.org/wiki/Autoregressive_integrated_moving_average\">ARMIMA models</a> are a general tool for time series prediction that take into account past trends in a variety of ways. <a href=\"https://en.wikipedia.org/wiki/Compartmental_models_in_epidemiology#The_SIR_model_without_vital_dynamics\">SIR models</a> by contrast, aim to model the dyanamics of spead of disease in a finite population. By comparing SIR and ARIMA models using national COVID-19 data from the CDC, we want to determine if SIR or ARIMA is a better predictor of new COVID-19 infections.\n",
    "\n",
    "The Federal Department of Health has put together a team of data scientist to help investigate the Covid-19 outbreak in 2020 and 2021. By comparing the SIR model and ARIMA model with the actual data for each state, we look to determine if the SIR model over predicts the total number of Covid cases.\n",
    "\n",
    "---\n",
    "## DATA\n",
    "\n",
    "[United States COVID-19 Cases and Deaths by State over Time](https://data.cdc.gov/Case-Surveillance/United-States-COVID-19-Cases-and-Deaths-by-State-o/9mfq-cb36)\n",
    "\n",
    "\n",
    "[Population data from census.gov](https://www.census.gov/data/datasets/time-series/demo/popest/2010s-state-total.html#par_textimage_1873399417)"
   ]
  },
  {
   "cell_type": "markdown",
   "id": "3397579b-a844-4269-9d69-949967c45383",
   "metadata": {},
   "source": [
    "---\n",
    "## Methodology\n",
    "\n",
    " \n",
    "See <a href=\"https://github.com/davidcherney/COVID-Infection-Predictions-from-SIR-and-ARIMA/blob/master/Intro_to_SIR_math.pdf\">Intro_to_SIR_math.pdf</a> for an introduction to SIR models. "
   ]
  },
  {
   "cell_type": "markdown",
   "id": "a4a66923-1500-4a2d-a593-dbf05b2029bf",
   "metadata": {},
   "source": [
    "---\n",
    "### Data Gathering and Cleaning\n",
    "UsingUsing the [requests](https://docs.python-requests.org/en/latest/#) python Library,\n",
    "we collected \n",
    "- cumulative number of covid cases in each state on each day in  Jan 23, 2020 to Dec 29, 2021 from [data.cdc.gov](https://data.cdc.gov/Case-Surveillance/United-States-COVID-19-Cases-and-Deaths-by-State-o/9mfq-cb36). \n",
    "- the cumulative total number of  people with completed vaccination scheduel in each day in each state from "
   ]
  },
  {
   "cell_type": "markdown",
   "id": "166aca2b-a2e5-4e9e-90e1-2e77c6a7f423",
   "metadata": {},
   "source": [
    "We collected data from multiple government sources, the bulk being from [data.cdc.gov](https://data.cdc.gov/Case-Surveillance/United-States-COVID-19-Cases-and-Deaths-by-State-o/9mfq-cb36). Using the [requests](https://docs.python-requests.org/en/latest/#) python Library, we fetched the total number of reported COVID-19 cases in all states from Jan 23, 2020 to Dec 29, 2021. We also gathered the total number of vaccinations administered from the day the vaccine was made public. This process can be seen in the notebook titled [01 data gathering and cleaning](http://localhost:8890/lab/tree/code/01%20data%20gathering%20and%20cleaning.ipynb)."
   ]
  },
  {
   "cell_type": "markdown",
   "id": "7a448645-bbcf-4f21-82a3-666f15e668a8",
   "metadata": {
    "tags": []
   },
   "source": [
    ">>>>>>> \n",
    "\n",
    "---\n",
    "\n",
    "### Data Feature Engineering\n",
    "\n",
    "- The data from [data.cdc.gov](https://data.cdc.gov/Case-Surveillance/United-States-COVID-19-Cases-and-Deaths-by-State-o/9mfq-cb36) had data on total number of people infected to date, a cumulative sum. However, for the SIR model, we needed the number of people infected _daily_. In order to get this data, we used the .diff() method on the column titled tot_cases and assigned the values to a I_actual column. We did a .diff(14) to reflect the number of days a person has an active COVID-19 infection.\n",
    "\n",
    "\n",
    "- The data from [data.cdc.gov](https://data.cdc.gov/Case-Surveillance/United-States-COVID-19-Cases-and-Deaths-by-State-o/9mfq-cb36) only had data on total number of people infected to date. However, for the SIR model, we needed the number of people infected daily. We engineered this feature, we used the pandas .diff(14) method on the total infected column and assigned the values to a I_actual column under the assumption that COVID cases last 14 days.\n",
    "\n",
    "- Using the to_datetime Pandas method, we converted the submission_date column into date time format and set it as the index\n",
    "\n",
    "- Using the states, I_actual, and total vaccinated columns, we created a new dataframe with each states currently infected numbers, and number of daily vaccinations administered as their own columns. This data is called shabang (because it made us smile in a needed time) within the data folder.\n",
    "\n",
    "- Using the states column, I_actual, and total vaccinated columns, we created a new dataframe with each states infected on each day I and vaccinated on each day V as it's own columns. "
   ]
  },
  {
   "cell_type": "markdown",
   "id": "dac6f008-ac1d-4a38-95fd-6e99b20b1e21",
   "metadata": {
    "tags": []
   },
   "source": [
    "From that from those engineered features, I and V, for each state, we ran SIR one day predictions to generate \n",
    "- the prediction I_SIR for each day in each state, \n",
    "- the prediction of number of people susceptable S_SIR in each state\n",
    "- the ARIMA predicted number of infections I_arima in each state on each day.\n",
    "\n",
    "Further, from that data we generated\n",
    "- the binary feature H-I for each day in each state indicating 1 if S was herd immunity threshold on that day in that state. "
   ]
  },
  {
   "cell_type": "markdown",
   "id": "79f84b39-cc22-45a1-aec6-79ba81a013ae",
   "metadata": {
    "tags": []
   },
   "source": [
    "---\n",
    "### Vizualizations\n",
    "Click [here](https://public.tableau.com/app/profile/thomas.prich/viz/Magic8BallsGroupProject/Dashboard1) to view our tableau dashboard. \n",
    "\n",
    "---\n",
    "## Conclusions and Recommendations\n",
    "\n",
    "In our comparison of SIR and ARIMA models, SIR consistently overshoots the actual values. Therefore, we recommend that the Federal Department of Health use SIR more to shpw worst case scenarios, and use ARIMA for more accurate predicitions. The downside is that ARIMA's best predictions are short term. \n",
    "\n",
    "A possible reasons why SIR consistently overpredicts is because it does take take into account changes in behavior such as:\n",
    "\n",
    "- Social distancing\n",
    "- Remote work/school\n",
    "- Masking\n",
    "- Hand washing\n",
    "- Reduced travel\n",
    "- Closure of public places \n",
    "\n",
    "and other COVID-19 related precautions. These precautions very likely prevented the U.S. from reaching the infection numbers predicted by SIR. SIR also does not take into account how far apart populations are. For example, cities in rural parts of the country are less dense and therefore will have slower spread statewide comparitive to cities and states such as New York.\n",
    "\n",
    "SIR also does not account for variants in the virus which have different rates of transmission (R0).\n",
    "\n",
    "Based on this, SIR isn't the best for actual predictions. However, it is appropriate for predicting worst case scenarios. Next steps would include testing SIR models on time frames \"medium\" time frames such as 1 week, 1 month etc., and further attempting to adjust the SIR parameters to account for changes in behaviors. "
   ]
  },
  {
   "cell_type": "code",
   "execution_count": null,
   "id": "26a4e0f4-8f10-4049-922d-be0979504353",
   "metadata": {},
   "outputs": [],
   "source": []
  }
 ],
 "metadata": {
  "kernelspec": {
   "display_name": "Python 3 (ipykernel)",
   "language": "python",
   "name": "python3"
  },
  "language_info": {
   "codemirror_mode": {
    "name": "ipython",
    "version": 3
   },
   "file_extension": ".py",
   "mimetype": "text/x-python",
   "name": "python",
   "nbconvert_exporter": "python",
   "pygments_lexer": "ipython3",
   "version": "3.9.7"
  }
 },
 "nbformat": 4,
 "nbformat_minor": 5
}
